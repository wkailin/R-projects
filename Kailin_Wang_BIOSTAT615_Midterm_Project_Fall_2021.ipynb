{
 "cells": [
  {
   "cell_type": "markdown",
   "metadata": {
    "id": "kiAtZF-dHHBz"
   },
   "source": [
    "# BIOSTAT615 Midterm Project - Fall 2021"
   ]
  },
  {
   "cell_type": "markdown",
   "metadata": {
    "id": "29hcNSQSXKhU"
   },
   "source": [
    "## Introduction\n",
    "\n",
    "This midterm project aims to implement open-ended methods to <u>***classify*** </u> and <u>***cluster***</u> widely known hand-written digit database, called MNIST database. \n",
    "\n",
    "This document describes how you can read MNIST dataset in R, how you can perfom simple classification tasks, and described how you can implement your own classification and clustering tasks. \n",
    "\n",
    "To complete your midterm project, you will need to take the following steps:\n",
    "1. Copy this document for your own version for editing\n",
    "2. Rename the document title to start with your own name: for example \"John Doe - BIOSTAT615 Midterm Project - Fall 2021\".\n",
    "3. Read this document carefully to understand what are required and recommended tasks\n",
    "4. Complete the required (and optional) tasks\n",
    "5. Write your own report in your copy of notebook directly\n",
    "6. Share your copy of the notebook with instructors (hmkang@umich.edu , ylzhong@umich.edu) as viewers (make sure that you do not share it with anyone else), and submit the URL to the notebook in Canvas.\n",
    "\n",
    "You should be able to use Markdown language to write your own report. See [Markdown Guide](https://colab.research.google.com/notebooks/markdown_guide.ipynb) to learn how to modify your copy of this report using Markdown. You may also want to read [LaTeX Tutorial](https://en.wikibooks.org/wiki/LaTeX/Mathematics) to learn how to write mathematical equations in your report (or you can import equations as external images)."
   ]
  },
  {
   "cell_type": "markdown",
   "metadata": {
    "id": "JNMPLzUBXG8w"
   },
   "source": [
    "## Background\n",
    "\n",
    "This section introduces what the MNIST dataset looks like, and explains how you can use them for your project.\n",
    "\n",
    "### Preambles\n",
    "\n",
    "First, let's try to load some R packages we will use for some of the example exercises."
   ]
  },
  {
   "cell_type": "code",
   "execution_count": 1,
   "metadata": {
    "colab": {
     "base_uri": "https://localhost:8080/"
    },
    "id": "MW9cajZgxcPr",
    "outputId": "0a8eddd1-a907-4e2b-81c7-99b39c357951"
   },
   "outputs": [
    {
     "name": "stderr",
     "output_type": "stream",
     "text": [
      "Loading required package: Matrix\n",
      "Loaded glmnet 4.1-3\n",
      "\n",
      "Attaching package: ‘dplyr’\n",
      "\n",
      "The following objects are masked from ‘package:stats’:\n",
      "\n",
      "    filter, lag\n",
      "\n",
      "The following objects are masked from ‘package:base’:\n",
      "\n",
      "    intersect, setdiff, setequal, union\n",
      "\n"
     ]
    }
   ],
   "source": [
    "# install.packages(\"glmnet\") ## glmnet will be used as a example classification\n",
    "# install.packages(\"tictoc\") ## tictoc will be used for evaluating time\n",
    "library(ggplot2)\n",
    "library(glmnet)\n",
    "library(tictoc)\n",
    "library(dplyr)"
   ]
  },
  {
   "cell_type": "markdown",
   "metadata": {
    "id": "v3tym2Lcq5v-"
   },
   "source": [
    "### Loading MNIST dataset\n",
    "\n",
    "[MNIST](http://yann.lecun.com/exdb/mnist/) is a widely recognized databases of handwritten digits, containing thousands of labeled images in a standardized form. This data has been one of the gold-standard dataset to evaluate various machine learning methods. In this project, we will NOT require implement any machine learning or deep learning methods, but will use these data as an easy-to-visualize high-dimensional data. \n",
    "\n",
    "The code fragment below will load train (n=60,000) and test (n=10,000) images and labels (0 to 9), and visualize the images to improve your understanding. First, we will download these data from the web "
   ]
  },
  {
   "cell_type": "code",
   "execution_count": 2,
   "metadata": {
    "id": "3vEZcgrKcRLX"
   },
   "outputs": [],
   "source": [
    "## DO NOT MODIFY THIS CELL\n",
    "## set up the location of MNIST files\n",
    "baseUrl = \"http://yann.lecun.com/exdb/mnist/\"\n",
    "trainXf = \"train-images-idx3-ubyte.gz\"  ## train images\n",
    "trainYf = \"train-labels-idx1-ubyte.gz\"  ## train labels\n",
    "testXf = \"t10k-images-idx3-ubyte.gz\"    ## test images\n",
    "testYf = \"t10k-labels-idx1-ubyte.gz\"    ## test labels"
   ]
  },
  {
   "cell_type": "code",
   "execution_count": 3,
   "metadata": {
    "id": "tpYRV0FHdPkm"
   },
   "outputs": [],
   "source": [
    "## DO NOT MODIFY THIS CELL\n",
    "## Download MNIST data\n",
    "filenames = c(trainXf, trainYf, testXf, testYf)\n",
    "for(fn in filenames) { \n",
    "  if ( !file.exists(fn) ) { ## skip download if already exists\n",
    "    system(paste0(\"wget \",baseUrl, fn),intern=TRUE)\n",
    "  }\n",
    "}"
   ]
  },
  {
   "cell_type": "code",
   "execution_count": 4,
   "metadata": {
    "colab": {
     "base_uri": "https://localhost:8080/"
    },
    "id": "Pl_BpFBrfWvy",
    "outputId": "500a4867-f4d5-4744-971e-bda7d76f4fd1"
   },
   "outputs": [
    {
     "name": "stdout",
     "output_type": "stream",
     "text": [
      " [1] \"total 24088\"                                                                                            \n",
      " [2] \"-rw-r--r--  1 kailin  staff   120342 11 23 02:24 11.23_v1\"                                              \n",
      " [3] \"-rw-r--r--  1 kailin  staff    86884 11 22 23:13 1122.ipynb\"                                            \n",
      " [4] \"-rw-r--r--  1 kailin  staff    87945 11 22 23:11 1a_done.ipynb\"                                         \n",
      " [5] \"-rw-r--r--  1 kailin  staff   106042 11 19 18:30 2a_done.ipynb\"                                         \n",
      " [6] \"-rw-r--r--@ 1 kailin  staff   120342 11 23 02:24 Kailin_Wang_BIOSTAT615_Midterm_Project_Fall_2021.ipynb\"\n",
      " [7] \"-rw-r--r--@ 1 kailin  staff  1648877 11 12 19:31 t10k-images-idx3-ubyte.gz\"                             \n",
      " [8] \"-rw-r--r--@ 1 kailin  staff     4542 11 12 19:32 t10k-labels-idx1-ubyte.gz\"                             \n",
      " [9] \"-rw-r--r--@ 1 kailin  staff  9912422 11 12 19:31 train-images-idx3-ubyte.gz\"                            \n",
      "[10] \"-rw-r--r--@ 1 kailin  staff    28881 11 12 19:31 train-labels-idx1-ubyte.gz\"                            \n",
      "[11] \"-rw-r--r--  1 kailin  staff    93558 11 16 12:21 version1.ipynb\"                                        \n",
      "[12] \"-rw-r--r--  1 kailin  staff    97805 11 13 23:27 version2.ipynb\"                                        \n"
     ]
    }
   ],
   "source": [
    "## DO NOT MODIFY THIS CELL\n",
    "## verify the downloaded files\n",
    "print(system(\"ls -l\",intern=TRUE))\n",
    "## Below is what you are expected to see when run this cell"
   ]
  },
  {
   "cell_type": "markdown",
   "metadata": {
    "id": "mXRucF9Pfq0U"
   },
   "source": [
    "The download data is a binary file, and it follows a specific format described in the [original web site](http://yann.lecun.com/exdb/mnist/). To help you get started with this data, an example function to load this data is provided below. You do not have to understand how this function works. "
   ]
  },
  {
   "cell_type": "code",
   "execution_count": 5,
   "metadata": {
    "id": "umjX2RpCh2Ke"
   },
   "outputs": [],
   "source": [
    "## DO NOT MODIFY THIS CELL\n",
    "#' readMNIST() - Function to read MNIST images/labels\n",
    "#' @param filename - Path to the local binary file\n",
    "#' @return 1-d (label) or 3-d (images) arrays of MNIST data\n",
    "readMNIST = function(filename) {\n",
    "  con = gzfile(filename,\"rb\")\n",
    "  hdr = readBin(con, integer(), n=2, endian=\"big\") ## read one byte to figure out file type\n",
    "  if ( hdr[1] == 2051 ) {         ## 2051 is a magic number for image files\n",
    "    nxy = readBin(con, integer(), n=2, endian=\"big\")  \n",
    "    return ( array( readBin(con, integer(), signed=FALSE, size=1, n=hdr[2]*nxy[1]*nxy[2], endian=\"big\"), dim=c(nxy[1],nxy[2],hdr[2]) ) )\n",
    "  } else if ( hdr[1] == 2049 ) {  ## 2049 is a magic number for label files\n",
    "    return ( readBin(con, integer(), signed=FALSE, size=1, n=hdr[2], endian=\"big\") )\n",
    "  } else {\n",
    "    stop(paste0(\"Cannot recognize the magic number \", hdr[1]))\n",
    "  }\n",
    "}"
   ]
  },
  {
   "cell_type": "code",
   "execution_count": 6,
   "metadata": {
    "colab": {
     "base_uri": "https://localhost:8080/"
    },
    "id": "Q6XpADxxo_jF",
    "outputId": "7e9ed844-2760-48a6-9d53-6f415e9d3f2b"
   },
   "outputs": [
    {
     "name": "stdout",
     "output_type": "stream",
     "text": [
      "[1]    28    28 60000\n",
      "[1] 60000\n"
     ]
    }
   ],
   "source": [
    "## DO NOT MODIFY THIS CELL\n",
    "train.X = readMNIST(trainXf)  ## read training images\n",
    "train.Y = readMNIST(trainYf)  ## read training labels\n",
    "print(dim(train.X))           ## print the dimension of training images (3-d array)\n",
    "print(length(train.Y))        ## print the dimension of training labels"
   ]
  },
  {
   "cell_type": "code",
   "execution_count": 7,
   "metadata": {
    "colab": {
     "base_uri": "https://localhost:8080/"
    },
    "id": "coo2CQ7Fktj7",
    "outputId": "14845dea-4964-4666-b6a9-d7d32d43365e"
   },
   "outputs": [
    {
     "name": "stdout",
     "output_type": "stream",
     "text": [
      "[1]    28    28 10000\n",
      "[1] 10000\n"
     ]
    }
   ],
   "source": [
    "## DO NOT MODIFY THIS CELL\n",
    "test.X = readMNIST(testXf)  ## read test images\n",
    "test.Y = readMNIST(testYf)  ## read test labels\n",
    "print(dim(test.X))          ## print the dimension of test images\n",
    "print(length(test.Y))       ## print the dimension of test labels"
   ]
  },
  {
   "cell_type": "code",
   "execution_count": 8,
   "metadata": {
    "colab": {
     "base_uri": "https://localhost:8080/",
     "height": 558
    },
    "id": "z77ZYG4mlUfi",
    "outputId": "b23dd1f0-aff3-41cc-f659-92c7a684a4ba"
   },
   "outputs": [
    {
     "name": "stdout",
     "output_type": "stream",
     "text": [
      "     [,1] [,2] [,3] [,4] [,5] [,6]\n",
      "[1,]    0    0    0  177  253   47\n",
      "[2,]    0    0    0   98  254   49\n",
      "[3,]    0    0    0   56  250  116\n",
      "[4,]    0    0    0    0  240  144\n",
      "[5,]    0    0    0    0  198  150\n",
      "[6,]    0    0    0    0  143  241\n"
     ]
    },
    {
     "data": {
      "image/png": "[encoded data removed]",
      "text/plain": [
       "plot without title"
      ]
     },
     "metadata": {},
     "output_type": "display_data"
    }
   ],
   "source": [
    "## DO NOT MODIFY THIS CELL\n",
    "## quick sanity checking\n",
    "print(train.X[10:15,20:15,3]) ## print some part of the large 3-d array\n",
    "## draw first 25 images: note that the images are mirrored in columns\n",
    "par(mfrow=c(5,5))\n",
    "par(mar=c(0,0,0,0))\n",
    "for(i in 1:25) { image(train.X[,28:1,i],col=gray((0:255)/255)) }"
   ]
  },
  {
   "cell_type": "code",
   "execution_count": 9,
   "metadata": {
    "colab": {
     "base_uri": "https://localhost:8080/",
     "height": 104
    },
    "id": "KoycYw1yoHj4",
    "outputId": "9382ffdd-8661-4749-b5a1-2926e5c6f9ca"
   },
   "outputs": [
    {
     "data": {
      "text/plain": [
       "   Min. 1st Qu.  Median    Mean 3rd Qu.    Max. \n",
       "   0.00    0.00    0.00   33.32    0.00  255.00 "
      ]
     },
     "metadata": {},
     "output_type": "display_data"
    },
    {
     "data": {
      "text/plain": [
       "train.Y\n",
       "   0    1    2    3    4    5    6    7    8    9 \n",
       "5923 6742 5958 6131 5842 5421 5918 6265 5851 5949 "
      ]
     },
     "metadata": {},
     "output_type": "display_data"
    }
   ],
   "source": [
    "## DO NOT MODIFY THIS CELL\n",
    "summary(train.X) ## show the summary of pixel-wise intensities\n",
    "table(train.Y)   ## show the distribution of each digit"
   ]
  },
  {
   "cell_type": "markdown",
   "metadata": {
    "id": "8qs1gVWQ0qTp"
   },
   "source": [
    "## Task 1 : Binary classification of MNIST data\n",
    "\n",
    "The first task is to implement an algorithm that performs binary classification of MNIST images. \n",
    "1. Subset images/labels that contains only two labels (you may select a pair of digits: default is 0 and 1).\n",
    "2. Example code will show how to classify images with logistic Ridge regression using `glmnet()` package.\n",
    "3. You are required to implement logistic Ridge regression by using the L-BFGS-B algorithm implemented in `optim()` function.\n",
    "  * You need to comment your code well and write a brief documentation to explain how you implemented it.\n",
    "  * The instructors will review your code and may provide specific comments. \n",
    "4. You are encouraged to perform additional follow-ups. Examples include the following:\n",
    "  * (Easy) Try different pairs of labels to understand the data-dependent differences in the classification performance.\n",
    "  * (Medium) Use different objective functions (e.g. LASSO) or optimization methods (e.g. Nelder-Mead) and see how those methods perform in terms of accuracy and computational efficiency. \n",
    "  * (Hard) Try to implement multi-class classification algorithm from scratch. You may choose 3 or more (up to 10!) digits to classify simultaneously. Clearly describe what your objective function is and how you optimized it."
   ]
  },
  {
   "cell_type": "markdown",
   "metadata": {
    "id": "iUleqQaRtAE4"
   },
   "source": [
    "### Preparing input data for binary classification\n",
    "\n",
    "The function below help you reshape the original data into a format that is easy to apply a binary classification algorithm. You are expected to specify a pair of digits as positive and negative labels. The function `prep_binary_classification()` returns a list containing a matrix `X` and a vector `y` as attributes. The matrix `X` has 784 (=28 x28) columns, and the number of rows equivalent to the number of positive + negative labels. The vector `y` is encoded as either 1 (for positive label) or 0 (for negative label) "
   ]
  },
  {
   "cell_type": "code",
   "execution_count": 10,
   "metadata": {
    "id": "abD-BiQh0pna"
   },
   "outputs": [],
   "source": [
    "## DO NOT MODIFY THIS CELL\n",
    "## prepare a model given a pair of digits\n",
    "#' @param images - (r * c * n) array containing n images\n",
    "#' @param labels - Size n vector of containing n labels\n",
    "#' @param posLabel - The label(s) considered as positive label \n",
    "#' @param negLabel - The label(s) considered as negative label\n",
    "#' @return A list containing then following attributes\n",
    "#'         * X - Matrix of (nrow=number of selected labels, ncol=r*c)\n",
    "#'         * y - Vector labels, encoded as zeros (negative) and ones (positive)\n",
    "prep_binary_classification = function(images, labels, posLabel = 1, negLabel = 0) {\n",
    "  dims = dim(images)\n",
    "  X.pos = t(matrix(images[,,labels %in% posLabel],nrow=dims[1]*dims[2])) ## 784 * n1 matrix\n",
    "  X.neg = t(matrix(images[,,labels %in% negLabel],nrow=dims[1]*dims[2])) ## 784 * n1 matrix\n",
    "  return(list(X=rbind(X.pos, X.neg),y = c(rep(1,nrow(X.pos)),rep(0,nrow(X.neg)))))\n",
    "}"
   ]
  },
  {
   "cell_type": "code",
   "execution_count": 11,
   "metadata": {
    "colab": {
     "base_uri": "https://localhost:8080/"
    },
    "id": "dmaKaLvx4baT",
    "outputId": "eac0e571-0d37-4db6-d822-139c000c4e4d"
   },
   "outputs": [
    {
     "name": "stdout",
     "output_type": "stream",
     "text": [
      "[1] 12665   784\n",
      "[1] 12665\n",
      "[1] 2115  784\n",
      "[1] 2115\n"
     ]
    }
   ],
   "source": [
    "## DO NOT MODIFY THIS CELL - IF YOU WANT TO CHANGE LABELS, USE TASK 1b.\n",
    "## Subsample training and test datasets\n",
    "trn = prep_binary_classification(train.X, train.Y, 1, 0)\n",
    "tst = prep_binary_classification(test.X, test.Y, 1, 0)\n",
    "## Check the dimensions of the data\n",
    "print(dim(trn$X))\n",
    "print(length(trn$y))\n",
    "print(dim(tst$X))\n",
    "print(length(tst$y))"
   ]
  },
  {
   "cell_type": "markdown",
   "metadata": {
    "id": "lxzSZgequ87d"
   },
   "source": [
    "### Pre-task: Perform logistic Ridge regression using `glmnet`\n",
    "\n",
    "We will first use logistic ridge regression implemented in `glmnet` package to fit the data, to illustrate what a reasonable regression model is expected to behave. \n",
    "\n",
    "Let $\\boldsymbol{x}_i$ be a row of `X`, and $\\sigma(z) = \\frac{1}{1+e^{-z}}$. Briefly, logistic Ridge regression will attempt to maximum the following penalized likelihood function.\n",
    "\n",
    "$$\n",
    "\\log L(\\boldsymbol{\\beta},\\lambda) = \\frac{1}{n}\\sum_{i=1}^n \\left[y_i\\log\\sigma\\left(\\boldsymbol{x}_i^T\\boldsymbol{\\beta}\\right) + (1-y_i)\\log\\left(1-\\sigma\\left(\\boldsymbol{x}_i^T\\boldsymbol{\\beta}\\right)\\right) \\right] - \\frac{\\lambda}{2n}\\|\\boldsymbol{\\beta}\\|_2^2\n",
    "$$\n",
    "\n",
    "which is equivalent to minimize $-\\log L(\\boldsymbol{\\beta},\\lambda)$. The `glmnet()` function provides an easy way to perform the Ridge regression as follows:\n",
    "\n",
    "In this exercise below, to save the computational time, we will <u>train the model using the ***test*** data</u> instead of the training data because test data is smaller in size. We will evaluate the model across all train data."
   ]
  },
  {
   "cell_type": "code",
   "execution_count": 12,
   "metadata": {
    "colab": {
     "base_uri": "https://localhost:8080/"
    },
    "id": "CP_xGnKnBdZT",
    "outputId": "6d6cc026-621e-44ae-991f-b7dfd2edb41e"
   },
   "outputs": [
    {
     "name": "stdout",
     "output_type": "stream",
     "text": [
      "Ridge regression train took 0.31500 seconds\n"
     ]
    }
   ],
   "source": [
    "## DO NOT MODIFY THIS CELL\n",
    "## Train the model\n",
    "tic <- proc.time()\n",
    "## alpha=0 : Ridge regression, lambda=1 is a regularization parameter\n",
    "## Note that we are training with test data to save computational time.\n",
    "ridge.fit <- glmnet(tst$X, tst$y, family=\"binomial\", alpha = 0, lambda = 1) \n",
    "toc <- proc.time()\n",
    "## Report the elapsed time\n",
    "cat(paste0(\"Ridge regression train took \",sprintf(\"%.5f\",(toc-tic)[3]),\" seconds\\n\")) "
   ]
  },
  {
   "cell_type": "markdown",
   "metadata": {
    "id": "_YBnkyxjykJZ"
   },
   "source": [
    "You can evaluate the accuracy of your classification results by comparing the predicted probability with the actual labels."
   ]
  },
  {
   "cell_type": "code",
   "execution_count": 13,
   "metadata": {
    "colab": {
     "base_uri": "https://localhost:8080/"
    },
    "id": "xlLPFU2EB-IE",
    "outputId": "77fddaa6-6570-434a-c5f2-04a6d4a9e9aa"
   },
   "outputs": [
    {
     "name": "stdout",
     "output_type": "stream",
     "text": [
      "# A tibble: 4 x 4\n",
      "   true  pred     n     freq\n",
      "  <dbl> <int> <int>    <dbl>\n",
      "1     0     0  5885 0.465   \n",
      "2     0     1    38 0.00300 \n",
      "3     1     0    10 0.000790\n",
      "4     1     1  6732 0.532   \n"
     ]
    }
   ],
   "source": [
    "## DO NOT MODIFY THIS CELL\n",
    "## Evaluate the prediction accuracy using train data (as test data was used for training)\n",
    "ridge.pred <- predict(ridge.fit, trn$X, type=\"response\") \n",
    "## Tabulate the TP/FP/TN/FN\n",
    "print(data.frame(pred=as.integer(ridge.pred > 0.5), true=trn$y) %>% count(true,pred) %>% mutate(freq=n/sum(n)))"
   ]
  },
  {
   "cell_type": "markdown",
   "metadata": {
    "id": "cMF_GTK_C6Xy"
   },
   "source": [
    "### ***TASK 1a: IMPLEMENT LOGISTIC RIDGE REGRESSION ON YOUR OWN*** (required)\n",
    "\n",
    "The goal of the first project is to implement logistic regression on your own. Here is a basic guideline.\n",
    "* You need to implement `my.ridge.fit(X, y, lambda=1)` using only `base` and `stats` package.\n",
    "* The function should return a list, including at least the following two attributes:\n",
    "  * `par` : A vector of coefficients from logistic ridge regression with size `ncol(X)`\n",
    "  * `counts` : Evaluates how many times the objective functions and gradients are evaluated.\n",
    "  * Note that these attributes can be easily obtained from the output of `stats::optim()` function.  \n",
    "* Using `stats::optim()` function with `L-BFGS-B` algorithm is highly recommended.\n",
    "* Use $-\\log L(\\boldsymbol{\\beta},\\lambda)$ as the objective function and provide the gradient as needed.  \n",
    "\n",
    "* For this required task, you are not allowed to use external libraries beyond default R packages (e.g. `base`, `utils`, `stats`)."
   ]
  },
  {
   "cell_type": "markdown",
   "metadata": {
    "id": "vd0WGydp9G_X"
   },
   "source": [
    "#### <u>PART I - DESCRIPTION OF YOUR IMPLEMENTATION (WRITE ON YOUR OWN)</u>\n",
    "\n",
    "#### `my.ridge.fit()`\n",
    "\n",
    "1. The penalized log-likelihood function of logistic Ridge regression  \n",
    "\n",
    "Let $\\boldsymbol{x}_i$ be a row of `X`, and $\\sigma(z) = \\frac{1}{1+e^{-z}}$. Briefly,  will attempt to maximum the following penalized log-likelihood function.\n",
    "\n",
    "$$\n",
    "\\log L(\\boldsymbol{\\beta},\\lambda) = \\frac{1}{n}\\sum_{i=1}^n \\left[y_i\\log\\sigma\\left(\\boldsymbol{x}_i^T\\boldsymbol{\\beta}\\right) + (1-y_i)\\log\\left(1-\\sigma\\left(\\boldsymbol{x}_i^T\\boldsymbol{\\beta}\\right)\\right) \\right] - \\frac{\\lambda}{2n}\\|\\boldsymbol{\\beta}\\|_2^2\n",
    "$$\n",
    "\n",
    "To maximize the likelihood function value is equivalent to minimize $-\\log L(\\boldsymbol{\\beta},\\lambda)$. \n",
    "\n",
    "\n",
    "2. Derive the gradient of the penalized log-likelihood function.   \n",
    "\n",
    "Based on the expression above,we can derive the gradient of log-likelihood function on $\\beta$ as:\n",
    "\n",
    "$$\n",
    "\\frac{\\partial\\log L(\\boldsymbol{\\beta},\\lambda)}{\\partial \\beta} = \\frac{1}{n}\\sum_{i=1}^n \\left[y_i \\frac{\\sigma\\left(\\boldsymbol{x}_i^T\\boldsymbol{\\beta}\\right)'}{\\sigma\\left(\\boldsymbol{x}_i^T\\boldsymbol{\\beta}\\right)} + (1-y_i)\\frac{-\\sigma\\left(\\boldsymbol{x}_i^T\\boldsymbol{\\beta}\\right)'}{1-\\sigma\\left(\\boldsymbol{x}_i^T\\boldsymbol{\\beta}\\right)}\\right] - \\frac{\\lambda}{n}\\boldsymbol{\\beta}\n",
    "$$\n",
    "Where $\\sigma\\left(\\boldsymbol{x}_i^T\\boldsymbol{\\beta}\\right)'$= ${\\sigma\\left(\\boldsymbol{x}_i^T\\boldsymbol{\\beta}\\right)}^2e^{-\\left(\\boldsymbol{x}_i^T\\boldsymbol{\\beta}\\right)}$=$\\sigma\\left(\\boldsymbol{x}_i^T\\boldsymbol{\\beta}\\right)(1-\\sigma\\left(\\boldsymbol{x}_i^T\\boldsymbol{\\beta}\\right))$, which is the the gradient of $\\sigma\\left(\\boldsymbol{x}_i^T\\boldsymbol{\\beta}\\right)$\n",
    "\n",
    "3. Description on my function:   \n",
    "\n",
    "The function `my.ridge.fit()` consists of three main parts:  \n",
    " - Contruct `fr()` function:  \n",
    " \n",
    " For this part, the log-likelihood function in part (1) is written and computed based on matrix operations in R. However, the return value of `fr()` is the negetive value of the log-likelihood function because `L-BFGS-B` algorithm is intended for minimization problems.  \n",
    " \n",
    " It's also worth noting that the clip value is applied on $\\boldsymbol{x}_i^T\\boldsymbol{\\beta}$ to prevent the occurence of *Inf* of $\\sigma\\left(\\boldsymbol{x}_i^T\\boldsymbol{\\beta}\\right)$ when $\\boldsymbol{x}_i^T\\boldsymbol{\\beta}$ is negetive and has a relatively large absolute value.  \n",
    " \n",
    " In this case, values in $\\boldsymbol{x}_i^T\\boldsymbol{\\beta}$ that are smaller than -10 are all clipped to -10, which appears to work well in the data set without introducing notable bias to the estimate of `fr()`.  \n",
    " \n",
    " - Contruct `grr()` function:  \n",
    " \n",
    "  The gradient of log-likelihood function on $\\beta$ in part (2) is written and computed based on matrix operations in R. The return value of `grr()` is also the negetive value of the gradient of log-likelihood function.  \n",
    "  \n",
    " - Optimize target function using `stats::optim()` function with `L-BFGS-B` algorithm\n",
    " \n",
    " Using stats::optim() function with parameters (fr, grr, L-BFGS-B).  \n",
    " \n",
    "The return of `my.ridge.fit()` is a list containing the two attributes `par`and `counts`, which are the estimate of coefficients from logistic ridge regression and \n",
    " the number of function calls made on objective function and gradients. With `par`, predictions are attainable on new data of $ X $."
   ]
  },
  {
   "cell_type": "markdown",
   "metadata": {
    "id": "qRbQgxWe-e_K"
   },
   "source": [
    "#### <u>PART II - ACTUAL IMPLEMENTATION </u>\n",
    "\n",
    "_Fill in the code in the cell below. You may add additional cells if needed._"
   ]
  },
  {
   "cell_type": "code",
   "execution_count": 14,
   "metadata": {
    "id": "vxo6OwxL5W4X"
   },
   "outputs": [],
   "source": [
    "##########################################################\n",
    "## PLEASE MODIFY THIS CELL (or Add more cells if needed)\n",
    "##########################################################\n",
    "## TASK 1a: Implement my.ridge.fit() function that performs logistic regression\n",
    "#' @param X - (n x p) matrix of predictor variables. Assume that intercept term is already included in the input.\n",
    "#' @param y - A size n vector of zeros (negative) and ones (positives) as labels.\n",
    "#' @return A list containing at least the following two attributes, which can be passed from stats::optim()\n",
    "#'    * par - A size p vector of coefficients from logistic ridge regression.\n",
    "#'    * counts - The number of function calls made on objective function and gradients.\n",
    "#'    * You may include other attributes as you want.  \n",
    "\n",
    "# 1.deduction on fr and grr\n",
    "# 2. explosion => clip value\n",
    "# 3. starting point(beta) and clip values\n",
    "my.ridge.fit = function(X, y, lambda=1) {\n",
    "  ## IMPLEMENT YOUR OWN FUNCTION HERE:\n",
    "  ## * Note that you may have to deal with numerical precision challenges.\n",
    "  n <- dim(X)[1]\n",
    "  p <- dim(X)[2]\n",
    "  best_beta = rep(1,p)#\n",
    "  sigma <- function(x){1/(1 + exp(-x))}\n",
    "  sigma_p <- function(x){sigma(x)^2 * exp(-x)}\n",
    "    \n",
    "#  5th version     \n",
    "fr <- function(x) {   ## -log likelihood function\n",
    "    c_val = 10\n",
    "    Xx = X %*% x\n",
    "    Xx_clip = ifelse(Xx <= -c_val, - c_val, ifelse(Xx >= c_val, c_val, Xx))\n",
    "    mat_sigma = sum((y-1) * Xx) - sum(log(1 + exp(-Xx_clip)))\n",
    "    log_lh = mat_sigma/n - lambda*crossprod(x)/(2*n)\n",
    "    return(-log_lh)\n",
    "     }\n",
    "\n",
    "# 3rd version\n",
    "grr <- function(x) { ## Gradient of 'fr'\n",
    "     c_val = 10\n",
    "     Xx = X %*% x\n",
    "     Xx_clip = ifelse(Xx <= -c_val, - c_val, ifelse(Xx >= c_val, c_val, Xx))\n",
    "     mat_y = (y - sigma(Xx_clip)) # n*1\n",
    "     mat_sigma =  matrix(mat_y,1,n) %*% X\n",
    "     log_lh_g = (mat_sigma - lambda*x)/n # p*1\n",
    "     return(-log_lh_g)\n",
    "    }\n",
    "    \n",
    "  result = optim(best_beta, fr, grr, method = \"L-BFGS-B\")#\n",
    "  return(list(par=result$par, counts=result$counts)) ## Make sure to return a list\n",
    "}"
   ]
  },
  {
   "cell_type": "markdown",
   "metadata": {
    "id": "qKcIpeel85NT"
   },
   "source": [
    "### Evaluation of TASK 1a\n",
    "\n",
    "***DO NOT MODIFY the code fragment below.*** \n",
    "\n",
    "This code evaluates your output from your previous function. "
   ]
  },
  {
   "cell_type": "code",
   "execution_count": 15,
   "metadata": {
    "colab": {
     "base_uri": "https://localhost:8080/",
     "height": 153
    },
    "id": "QhtDn64yHWel",
    "outputId": "f1c94bd5-2bb4-4273-d29b-e949107df62e"
   },
   "outputs": [
    {
     "name": "stdout",
     "output_type": "stream",
     "text": [
      "New ridge regression train took 0.41600 seconds\n",
      "Number of (function, gradient) evaluations: (60,60)\n"
     ]
    }
   ],
   "source": [
    "## DO NOT MODIFY THIS CELL\n",
    "tic <- proc.time()\n",
    "rst <- my.ridge.fit(cbind(1,tst$X), tst$y, 1) ## run the new method\n",
    "toc <- proc.time()\n",
    "cat(paste0(\"New ridge regression train took \",sprintf(\"%.5f\",(toc-tic)[3]),\" seconds\\n\")) \n",
    "cat(paste0(\"Number of (function, gradient) evaluations: (\",rst$counts[1],\",\",rst$counts[2],\")\\n\")) \n",
    "## Example output is given below."
   ]
  },
  {
   "cell_type": "code",
   "execution_count": 16,
   "metadata": {
    "id": "GHIT3V68Ujmx"
   },
   "outputs": [
    {
     "name": "stdout",
     "output_type": "stream",
     "text": [
      "# A tibble: 4 x 4\n",
      "   true  pred     n     freq\n",
      "  <dbl> <int> <int>    <dbl>\n",
      "1     0     0  5912 0.467   \n",
      "2     0     1    11 0.000869\n",
      "3     1     0    40 0.00316 \n",
      "4     1     1  6702 0.529   \n"
     ]
    }
   ],
   "source": [
    "## DO NOT MODIFY THIS CELL\n",
    "## Evaluate the prediction accuracy using train data (as test data was used for training)\n",
    "sigmoid <- function(x) 1/(1+exp(-x))\n",
    "my.pred <- sigmoid(cbind(1,trn$X) %*% rst$par) \n",
    "## Tabulate the TP/FP/TN/FN\n",
    "print(data.frame(pred=as.integer(my.pred > 0.5), true=trn$y) %>% count(true,pred) %>% mutate(freq=n/sum(n)))\n",
    "## Example output is given below."
   ]
  },
  {
   "cell_type": "markdown",
   "metadata": {
    "id": "8BF8EEGpGV-G"
   },
   "source": [
    "#### <u>PART III - INTERPRET EVALUATION RESULTS (WRITE ON YOUR OWN)</u>\n",
    "\n",
    "_Briefly describe the followings: (it does not have to be long. 1-2 sentences each is fine.)_\n",
    "* _Does your result make sense, in terms of speed and accuracy?_  \n",
    "\n",
    "  The result appears make good sense. The new ridge regression train took 0.414 seconds, and the accuracy reaches to approxiamtely 99.6%.  \n",
    "  \n",
    " \n",
    "* _What was the tricky part in your implementation? How did you address the challenges?_  \n",
    "\n",
    "   The tricky part is the occurence of *Inf* for  $\\sigma\\left(\\boldsymbol{x}_i^T\\boldsymbol{\\beta}\\right)$ when $\\boldsymbol{x}_i^T\\boldsymbol{\\beta}$ is negetive and has a relatively large absolute value.\n",
    "   To solve this problem, I used the clip value technique on $\\boldsymbol{x}_i^T\\boldsymbol{\\beta}$. To be specific,  values in $\\boldsymbol{x}_i^T\\boldsymbol{\\beta}$ that are smaller than -10 are all clipped to -10. It appears that this clip helps a lot on the explosion of the value. \n",
    "  \n",
    " \n",
    "* _How could your implementation be potentially improved?_  \n",
    "  \n",
    "  I think there should be better ways to address the problem of the explosion of $\\sigma\\left(\\boldsymbol{x}_i^T\\boldsymbol{\\beta}\\right)$ when $\\sigma$ is very large. For the clip-value method, bias is introduced into the the estiamte of the likelihood function."
   ]
  },
  {
   "cell_type": "markdown",
   "metadata": {
    "id": "PlEAylVCKUUz"
   },
   "source": [
    "### ***TASK 1b: EXPLORE MORE ON MNIST CLASSIFICATION ON YOUR OWN*** (optional)\n",
    "\n",
    "This is an open-ended task. You are encouraged to perform additional follow-ups on classification. Examples include the following:\n",
    "  * (Easy) Try different pairs of labels to understand the data-dependent differences in the classification performance.\n",
    "  * (Medium) Use different objective functions (e.g. LASSO) or optimization methods (e.g. Nelder-Mead) and see how those methods perform in terms of accuracy and computational efficiency. \n",
    "  * (Hard) Try to implement multi-class classification algorithm from scratch. You may choose 3 or more (up to 10!) digits to classify simultaneously. Clearly describe what your objective function is and how you optimized it.\n",
    "\n",
    "Add additional code or text cells as needed below. Make sure to include your brief report on your work so that instructors can understand what you accomplished clearly.\n",
    "\n",
    "For this optional task, you are allowed to use any external libraries as needed."
   ]
  },
  {
   "cell_type": "code",
   "execution_count": 17,
   "metadata": {
    "id": "H7BC5hPK3ZbI"
   },
   "outputs": [],
   "source": [
    "##########################################################\n",
    "## PLEASE MODIFY THIS CELL (or Add more cells if needed)\n",
    "## To perform TASK 1b (optional)\n",
    "##########################################################"
   ]
  },
  {
   "cell_type": "markdown",
   "metadata": {
    "id": "cIsxpVAzL1d-"
   },
   "source": [
    "## Task 2 : Clustering of MNIST data\n",
    "\n",
    "The second task is to implement an algorithm that performs multi-class clustering of MNIST images. \n",
    "1. Subset images/labels that contains 3 or more labels (to make the problem simple, but not too simple).\n",
    "2. You are required to implement at least one type of clustering method (e.g. E-M, k-means, Louvain).\n",
    "  * You need to comment your code well and write a brief documentation to explain how you implemented it.\n",
    "  * The instructors will review your code and may provide specific comments. \n",
    "3. You are also encouraged to implement additional methods and perform further experiments. Examples include the following:\n",
    "  * (Easy) Try different sets of labels to understand the data-dependent differences in the clustering performance. Also, try to evaluate the robustness of your algorithm based on different initial points.\n",
    "  * (Medium) Try to implement an algorithm that automatically select the optimal number of clusters depending on the data.\n",
    "  * (Hard) Try to implement another algorithm and compare the performance between the algorithms. Describe which ones are better in which cases and justify your answer."
   ]
  },
  {
   "cell_type": "markdown",
   "metadata": {
    "id": "V0DbzD5L4eTM"
   },
   "source": [
    "### Pre-task: Prepare the data for clustering\n",
    "\n",
    "This section select a subset of labels from the test data (we work on test data rather than training to reduce response time), and cluster the corresponding images without using the labels at all. In this example, three labels - 0, 1, 2 are selected. "
   ]
  },
  {
   "cell_type": "code",
   "execution_count": 18,
   "metadata": {
    "id": "tUb6mgwS0wCQ"
   },
   "outputs": [],
   "source": [
    "## DO NOT MODIFY THIS CELL\n",
    "## prepare data given a set of digits\n",
    "#' @param images - (r * c * n) array containing n images\n",
    "#' @param labels - Size n vector of containing n labels\n",
    "#' @param selectedLabels - The label(s) considered for clustering  \n",
    "#' @return A list containing then following attributes\n",
    "#'         * X - Matrix of (nrow=number of selected labels, ncol=r*c)\n",
    "#'         * y - Vector selected labels\n",
    "prep_multiway_clustering = function(images, labels, selectedLabels) {\n",
    "  dims = dim(images)\n",
    "  idx = which(labels %in% selectedLabels)\n",
    "  X = t(matrix(images[,,idx],nrow=dims[1]*dims[2])) ## 784 * n matrix\n",
    "  return(list(X=X,y = labels[idx]))\n",
    "}"
   ]
  },
  {
   "cell_type": "code",
   "execution_count": 19,
   "metadata": {
    "id": "NcRhU3wY0x0H"
   },
   "outputs": [],
   "source": [
    "# DO NOT MODIFY THIS CELL\n",
    "## Select 3 labels for clustering\n",
    "selectedLabels = c(0,1,2)\n",
    "tst = prep_multiway_clustering(test.X, test.Y, selectedLabels)"
   ]
  },
  {
   "cell_type": "markdown",
   "metadata": {
    "id": "G5LiSZ5e5kkS"
   },
   "source": [
    "### ***TASK 2a: IMPLEMENT 3-CLASS CLUSTERING ON YOUR OWN*** (required)\n",
    "\n",
    "The goal of the first project is to implement 3-class clustering. Here is a basic guideline.\n",
    "* You need to implement `my.clustering(X, nclust, max.iter, tol)` using only `base` and `stats` package.\n",
    "* The function should return a list, including at least the following two attributes:\n",
    "  * `mu` : A `ncol(X) * nclust` matrix of mean pixel strength (0-1 scale)  for each cluster. \n",
    "  * `est` : The best guess cluster of each image to one of the labels (i.e. in `1:nclust`). Note that the cluster id and the images labels do not have direct correspondence and may be permuted in different runs.\n",
    "* For this required task, you are not allowed to use external libraries beyond default R packages (e.g. `base`, `utils`, `stats`). However, if you want to use algorithms based on nearest neighbors, you are allowed to use `RcppAnnoy` package. If you really have to import additional libraries, consult with your instructors beforehand.\n",
    "* If you do not know what to choose, implementing an E-M algorithm may be a safe option that the instructors can give useful inputs. "
   ]
  },
  {
   "cell_type": "markdown",
   "metadata": {},
   "source": [
    "#### <u>PART I - DESCRIPTION OF YOUR IMPLEMENTATION (WRITE ON YOUR OWN)</u>\n",
    "\n",
    "#### `my.clustering(X, nclust, max.iter=1000L, tol=1e-5)`\n",
    "\n",
    "1. Basic description on `my.clustering()`\n",
    "  My function `my.clustering()` is constructed primarily based on EM algorithm with a mixture of Bernoulli distribution.   \n",
    "  \n",
    "  The input includes `X`(the original n * 784 matrix of images), `nclust` (number of clusters to generate), `max.iter`(maximum number of iteration) and `tol`(tolerance to define convergence).  \n",
    "  \n",
    "  In the function body, firstly, the values in `X` are  binarized to 0-1, which corresponds to the Bernoulli distribution. Then EM algorithm is implemented on the the binary data with the pre-specified parameter `nclust` via `binMixEm()`,  which gives an output of a list containing all the useful results yieldes by the EM algorithm. Finally, the predictions for classification of each image(row) in the training set is computed using the output `prob_mat` from `binMixEm()`.\n",
    " \n",
    " \n",
    "2. Mathematical formulation of EM algorithm with a mixture of Multivariate Bernoulli distribution  \n",
    "\n",
    "    - Likelihood function \n",
    "        - Complete-data likelihood  \n",
    "    $L(\\theta) = p(\\boldsymbol{x},\\boldsymbol{z}|\\theta) \\\\\n",
    "    = \\prod_{i=1}^n \\pi_{z_i} P(\\boldsymbol{x_i}|\\boldsymbol{p}_{z_i}) \\\\\n",
    "    = \\prod_{c=1}^k  \\prod_{i=1}^n \\left\\{\\pi_{z_i} P(\\boldsymbol{x_i}|\\boldsymbol{p}_{z_i})\\right\\}^{I_{z_i=c}} \\\\\n",
    "    = \\prod_{c=1}^k \\prod_{i=1}^n  \\left\\{\\pi_{z_i} \\prod_{j=1}^{784} { P({x_{i,j}}|{p}_{{z_{i}},j})}\\right\\}^{I_{z_i=c}}\\\\\n",
    "    $\n",
    "    where:  \n",
    "    $\\boldsymbol{x}$ is a $n * 784$ binary matrix represents the data $X$.  \n",
    "    $\\boldsymbol{z}$ is a $n$ matrix represents the cluster number that each row in  $X$ belongs to.  \n",
    "    $\\boldsymbol{x_i}$ is a $1 * 784$ vector of independent random variables that follow Bernoulli distributions with different parameters.   \n",
    "    $\\boldsymbol{p}_{z_i}$ is thus also a $1 * 784$ vector corresponding to the parameters of each Bernoulli distribution in $\\boldsymbol{x_i}$.   \n",
    "    \n",
    "        - Log-likelihood  \n",
    "    $\\begin{aligned}\n",
    "    l(\\theta) &= log L(\\theta)\\\\\n",
    "    &= log p(\\boldsymbol{x},\\boldsymbol{z}|\\theta) \\\\\n",
    "    &= \\sum_{i=1}^n log(\\pi_{z_i}) + log(P(\\boldsymbol{x_i}|\\boldsymbol{p}_{z_i})) \\\\\n",
    "    &=  \\sum_{c=1}^k \\sum_{i=1}^n  {I_{z_i=c}} \\left\\{log\\pi_{z_i}+ log(P(\\boldsymbol{x_i}|\\boldsymbol{p}_{z_i}))\\right\\}\\\\\n",
    "    &= \\sum_{c=1}^k \\sum_{i=1}^n {I_{z_i=c}}\\left\\{ {log\\pi_{z_i}+ \\sum_{j=1}^{784}logP({x_{i,j}}|{p}_{{z_{i}},j})}\\right\\}\n",
    "    \\end{aligned}\n",
    "    $ \n",
    "    \n",
    "        - EM algorigthm   \n",
    "\n",
    "        - E-step : calculate the expectation of Log-likelihood based on current parameters\n",
    "       $\\begin{aligned}\n",
    "       Q(\\theta|\\theta^{(t)}) &= E_{z|x,\\theta ^{(t)}}[logP(\\boldsymbol{x},\\boldsymbol{z}|\\theta)]  \\\\\n",
    "       &= \n",
    "       \\sum_{c=1}^k \\sum_{i=1}^n P(z_i=c|x_i, p^{(t)}) \\left\\{ {log\\pi_{z_i}+log(P(\\boldsymbol{x_i}|\\boldsymbol{p}_{z_i}))} \\right\\} \\\\\n",
    "       &= \n",
    "       \\sum_{c=1}^k \\sum_{i=1}^n P(z_i=c|x_i, p^{(t)}) \\left\\{ {log\\pi_{z_i}+\\sum_{j=1}^{784} logP({x_{i,j}}|{p}_{{z_{i}},j})} \\right\\} \n",
    "       \\end{aligned}\n",
    "       $\n",
    "    \n",
    "     where $ P({x_{i,j}}|{p}_{{z_{i}},j})= {p}_{{z_{i}},j}^{x_{i,j}}(1-{p}_{{z_{i}},j})^{1-x_{i,j}}$ according to Bernoulli distribution.\n",
    "    \n",
    "     Based on Bayes' theorem, the classification probabilities(prob_mat) for 'class assignment' in this case is :\n",
    "    \n",
    "    $$\n",
    "    \\begin{aligned}\n",
    "    P(z_{i}=c|x_i,\\pi,p) &=\\frac{P(z_{i}=c,x_i,\\pi,p)}{P(x_i,\\pi,p)} \\\\\n",
    "    &= \\frac{\\pi_cP(\\boldsymbol{x_{i}}|\\boldsymbol{{p}_{c}})}{\\sum_{c=1}^k \\pi_cP(\\boldsymbol{x_{i}}|\\boldsymbol{{p}_c})} \\\\\n",
    "    &= \\frac{\\pi_c\\prod_{j=1}^{784}P({x_{i,j}}|{p}_{c,j})}{\\sum_{c=1}^k \\pi_c\\prod_{j=1}^{784}P({x_{i,j}}|{p}_{c,j})}\n",
    "    \\end{aligned}\n",
    "    $$\n",
    "    \n",
    "        - M-step : Update the parameters to maximize the likelihood function in E-step  \n",
    "             \n",
    "          In the M-step, we try to maximize the loglikelihood $Q(\\theta|\\theta^{(t)})$ w.r.t parameters $\\boldsymbol{p}$ and $\\boldsymbol{\\pi}$, which can be realized by taking the derivatives of $\\boldsymbol{p}$ and $\\boldsymbol{\\pi}$ and set them to zeros.\n",
    "             \n",
    "\n",
    "                    "
   ]
  },
  {
   "cell_type": "markdown",
   "metadata": {},
   "source": [
    "- Update $\\pi_{c}$ \n",
    "\n",
    "\n",
    "To get $\\pi_{c}$, we first construct a Lagrange function beacause of the constraint:\n",
    "$\\sum_{c=1}^k \\pi_c=1$.\n",
    "                \n",
    "$$\n",
    "\\begin{aligned}\n",
    "L(\\boldsymbol{\\pi},\\lambda) \n",
    "&= Q(\\theta|\\theta^{(t)})+ \n",
    "\\lambda \\left\\{ \\sum_{i=1}^n \\pi_i-1\\right\\}     \n",
    "\\end{aligned}\n",
    "$$\n",
    "Then set the derivative wrt $\\pi_{c}$ and $\\lambda$ in $L(\\boldsymbol{\\pi},\\lambda)$ to zero, we can get: \n",
    "\n",
    "$$\n",
    "\\begin{aligned}\n",
    "\\frac{L(\\boldsymbol{\\pi},\\lambda)}{\\partial \\pi_{c}}\n",
    "&= \\frac{\\sum_{i=1}^{n} P(z_{i}=c|x_i,\\pi^{(t)},p^{(t)})}\n",
    "{\\pi_{c}} + \\lambda = 0  \n",
    "\\rightarrow \n",
    "\\pi_{c} = \\frac{-\\lambda}{\\sum_{i=1}^{n} P(z_{i}=c|x_i,\\pi^{(t)},p^{(t)})}\n",
    "\\\\\n",
    "\\sum_{c=1}^k \\pi_c &= 1\n",
    "\\end{aligned}\n",
    "$$\n",
    "\n",
    "Given that $\\sum_{i=1}^{n} \\sum_{c=1}^{k}P(z_{i}=c|x_i,\\pi^{(t)},p^{(t)})=n$, we have:   \n",
    "$$\n",
    "\\begin{aligned} \n",
    "\\pi_{c}^{(t+1)} = \\frac{\\sum_{i=1}^n P(z_{i}=c|x_i,\\pi^{(t)},p^{(t)})}{n}\n",
    "\\end{aligned}\n",
    "$$"
   ]
  },
  {
   "cell_type": "markdown",
   "metadata": {},
   "source": [
    "             \n",
    "- Update $p_{c}$  \n",
    "    *Take the derivative w.r.t $\\boldsymbol{p_c}$*\n",
    "             \n",
    "$$\n",
    "\\begin{aligned}\n",
    "\\frac{\\partial Q(\\theta|\\theta^{(t)}) }{\\partial \\boldsymbol{p}} \n",
    "             &= \\frac{\\sum_{c=1}^k \\sum_{i=1}^n P(z_i=c|x_i, p^{(t)}) \\left\\{ {log\\pi_{z_i}+log(P(\\boldsymbol{x_i}|\\boldsymbol{p}_{c}))} \\right\\}}{\\partial \\boldsymbol{p}} \\\\   \n",
    "             &=\\frac{\\sum_{c=1}^k \\sum_{i=1}^n  P(z_i=c|x_i, p^{(t)}) \\left\\{ \n",
    "             {log\\pi_{z_i}\n",
    "             +\\boldsymbol{x_i}^T log(\\boldsymbol{p}_{c})\n",
    "             +{1-\\boldsymbol{x_i}}^T log(1-\\boldsymbol{p}_{c}) \n",
    "             }\n",
    "             \\right\\}}{\\partial \\boldsymbol{p}} \\\\\n",
    "             &= \\sum_{i=1}^n P(z_i=c|x_i, p^{(t)}) \\left\\{ \\frac{\\boldsymbol{x_i}}{\\boldsymbol{p}_{c}} \n",
    "             + \\frac{\\boldsymbol{1-x_i}}{\\boldsymbol{1-p_{c}}} \n",
    "             \\right\\}\\\\\n",
    "             &= \\frac{\\sum_{i=1}^n P(z_i=c|x_i, p^{(t)})\n",
    "             (\\boldsymbol{x_i-p_c})}\n",
    "             {(\\boldsymbol{p}_{c}) * (\\boldsymbol{1-p_{c}})}\n",
    "             \\end{aligned}\n",
    "             $$\n",
    "             \n",
    "where * represents element-wise multiplication between two vectors.\n",
    "             \n",
    "Set the numerator in the equation above to zero, we have:  \n",
    "$$\n",
    "             \\begin{aligned}\n",
    "             p_{c}^{(t+1)} &= \\frac{\n",
    "             \\sum_{i=1}^n x_i P(z_{i}=c|x_i,\\pi^{(t)},p^{(t)})\n",
    "             }\n",
    "             {\\sum_{i=1}^n P(z_{i}=c|x_i,\\pi^{(t)},p^{(t)})\n",
    "             }\\\\\n",
    "             &= \\frac{\\sum_{i=1}^n x_iP(z_{i}=c|x_i,\\pi^{(t)},p^{(t)})}\n",
    "             {n\\pi_c^{(t+1)}}\n",
    "             \\end{aligned}\n",
    "$$"
   ]
  },
  {
   "cell_type": "markdown",
   "metadata": {},
   "source": [
    "3. Implementation of EM algorithm in ` my.clustering()`\n",
    "  -  Class `binMixEm`\n",
    "      - Parameter initialization\n",
    "          - `pi_vec`: Randomly initialized and normalized with k numbers from uniform distruibution between 0 and 1\n",
    "          - `mu_vec`: Initialized by the k equal-spaced quantiles from each column of the data.\n",
    "      - Iterative procedure  \n",
    "        Each interation consists of 4 main steps:  \n",
    "        1. Update the classification probabilities and likelihood with latest parameters with the formulas in E-step above.  \n",
    "        2. Update the class proportion `pi_vec` with the formula in M-step above.  \n",
    "        3. Update the k*784 Bermoulli distribution parameters `p_mat` with the formula in M-step above.  \n",
    "        4. Check convergence conditions.  \n",
    "        \n",
    "      - Expected results\n",
    "        Given that EM algorithm always increases the log-likelihood in each iteration, the algorithm is expected to converge in a relatively small number of iterations."
   ]
  },
  {
   "cell_type": "markdown",
   "metadata": {
    "id": "DngiJfgl89jl"
   },
   "source": [
    "#### <u>PART II - ACTUAL IMPLEMENTATION </u>\n",
    "\n",
    "_Fill in the code below. You may add additional cells if needed._"
   ]
  },
  {
   "cell_type": "code",
   "execution_count": 124,
   "metadata": {
    "id": "g7pmyJbl00vm"
   },
   "outputs": [],
   "source": [
    "##########################################################\n",
    "## PLEASE MODIFY THIS CELL (or Add more cells if needed)\n",
    "##########################################################\n",
    "## Implement your own clustering algorithm\n",
    "#' @param X : (n * 784) matrix of images (you may consider binarizing the matrix at X[i,j] == 128 if needed)\n",
    "#' @param nclust : Number of clusters to generate\n",
    "#' @param max.iter : Maximum number of iteration, may end early based on convergence criteria\n",
    "#' @param tol : Parameters for determining convergence.\n",
    "#' @return A list containing at least the following attributes:\n",
    "#'    * mus - A [ ncol(X) * nclust ] matrix of mean pixel strength (0-1 scale)  for each cluster.\n",
    "#'    * est - The best guess cluster of each image to one of the labels (i.e. in `1:nclust`). \n",
    "\n",
    "my.clustering = function(X, nclust, max.iter=1000L, tol=1e-5) {\n",
    "    # binarizing the matrix at X[i,j] == 128   \n",
    "    bin_X = ifelse(X>=128,1,0)\n",
    "    # use EM algorithm to make predictions\n",
    "    EM <- binMixEm$new(input_dat = bin_X, num_components = nclust)\n",
    "    res_EM <- EM$run.EM(loglik_tol=tol,max_iter=max.iter)\n",
    "#     plot(1:res_EM$iter, res_EM$loglik_list, type=\"l\")\n",
    "    # pi_vec # k*1    p_mat # k*784     bin_X# n * 784\n",
    "    est <- apply(res_EM$prob_mat, 1, which.max)\n",
    "    est <- sapply(est, function(x) c(1,2,0)[x])\n",
    "    return(list(mus=t(res_EM$p_mat), est=est))\n",
    "}"
   ]
  },
  {
   "cell_type": "code",
   "execution_count": 118,
   "metadata": {},
   "outputs": [],
   "source": [
    "#' Create a class binMixEM\n",
    "binMixEm <- setRefClass(\"binMixEM\",\n",
    "                         fields=list(k = \"integer\",\n",
    "                                     n = \"integer\",\n",
    "                                     dat_mat = \"matrix\", # n*784\n",
    "                                     pi_vec = \"vector\", # k*1\n",
    "                                     p_mat = \"matrix\", # k*784 ;Bernouli(p)\n",
    "                                     prob_mat = \"matrix\", # n*k\n",
    "                                     loglik = \"numeric\",\n",
    "                                     tol = \"numeric\")\n",
    "                       )\n",
    "#' method to initialize binMixEm class (called with binMixEm$new)\n",
    "#' @param input_data - data to initalize\n",
    "#' @param num_components - number of components (k=3)\n",
    "binMixEm$methods(initialize = function(input_dat,num_components){\n",
    "  dat_mat <<- input_dat ## Use <<- to assign fields\n",
    "  k <<- num_components # k=3\n",
    "  n <<- length(dat_mat)\n",
    "})\n",
    "\n",
    "\n",
    "#' method to initialize parameters for E-M\n",
    "binMixEm$methods(init.paras = function(){\n",
    "    # pi_vec: k * 1\n",
    "    # dat_mat: n * 784 \n",
    "    # p_mat: k * 784\n",
    "    # prob_mat: n * k\n",
    "  tol <<- 1e-100  ## small number to avoid log(zero)  \n",
    "  set.seed(1234)\n",
    "  pi_vec <<- runif(3)\n",
    "  pi_vec <<- pi_vec/sum(pi_vec)\n",
    "#   pi_vec <<- rep(1.0/k,length=k)  ## uniform across components\n",
    "  ## pick means from equal-spaced quantiles from the data\n",
    "  ################################## sensitive!!\n",
    "  p_mat <<- apply(dat_mat,2,function(x) quantile(x,prob=seq(1/(2*k),1-1/(2*k),length=k)                                                ))\n",
    "  prob_mat <<- matrix(NA,nrow=n,ncol=k)              \n",
    "  loglik <<- -Inf\n",
    "})\n",
    "    \n",
    "    \n",
    "# Check carefully!\n",
    "#' E-step for E-M algorithm\n",
    "  binMixEm$methods(update.prob = function(){\n",
    "    ## prob_mat contains log-likelihood of each components\n",
    "      ################################ ? p_mat = 0 =>+tol to avoid dat_mat=0 => -Inf\n",
    "      # prob_mat:  n*k\n",
    "    prob_mat <<- t(log(pi_vec+tol)+ tcrossprod(log(p_mat+tol), dat_mat) + tcrossprod(log(1-p_mat+tol), 1 - dat_mat))\n",
    "    max_log_prob <- apply(prob_mat,1,max) ## local change, do not change the field value\n",
    "    prob_mat <<- exp(prob_mat - max_log_prob) ## re-scale probability (important)\n",
    "    sum_prob <- apply(prob_mat,1,sum)  ## sum probabilities for each observation      \n",
    "    prob_mat <<- prob_mat/sum_prob      ## normalize the probability E[z|theta]  \n",
    "    loglik <<- sum(max_log_prob + log(sum_prob))  ## evaluate log-likelihood\n",
    "  })\n",
    "\n",
    "    \n",
    "#' M-step for E-M algorithm to update pi_vec\n",
    "binMixEm$methods(update.pi = function(){\n",
    "  pi_vec <<- apply(prob_mat,2,mean) #k*1\n",
    "})\n",
    "\n",
    "#' M-step for E-M algorithm to update mu_vec\n",
    "binMixEm$methods(update.p = function(){ \n",
    "    # cheack dim(p_mat) = k * 784\n",
    "#   p_mat <<- (crossprod(prob_mat,dat_mat)/ n)/(pi_vec+tol) \n",
    "    p_mat <<- (crossprod(prob_mat,dat_mat)/ apply(prob_mat,2,sum))\n",
    "})\n",
    "\n",
    "                 \n",
    "#' check convergence of mixture binomial EM\n",
    "binMixEm$methods(check.tol = function(fmax,fmin,ftol){\n",
    "  delta = abs(fmax - fmin)\n",
    "  accuracy = (abs(fmax) + abs(fmin))*ftol\n",
    "  return(delta < (accuracy + tol))\n",
    "})  \n",
    "    \n",
    "#' main function for E-M algorithm\n",
    "binMixEm$methods(run.EM = function(max_iter=1000L,loglik_tol=1e-5){\n",
    "  convergence = 1L\n",
    "  init.paras()  ## initialize parameter\n",
    "  loglik_list = NULL\n",
    "  for(iter in 1:max_iter){\n",
    "#     print(iter)\n",
    "    loglik0 <- loglik ## log-likelihood of previous steps\n",
    "    update.prob() # E-step\n",
    "    update.pi()   # M-step for pi_vec\n",
    "    update.p()   # M-step for p_mat\n",
    "    loglik_list = c(loglik_list,loglik) # append log-likelihood\n",
    "    if(check.tol(loglik0,loglik,loglik_tol)){\n",
    "      convergence = 0 # converged\n",
    "      break\n",
    "    }\n",
    "  }\n",
    "  return(list(convergence=convergence,p_mat=p_mat,\n",
    "              pi_vec=pi_vec,iter=iter,loglik_list=loglik_list,\n",
    "              prob_mat=prob_mat))\n",
    "  })\n",
    "\n"
   ]
  },
  {
   "cell_type": "markdown",
   "metadata": {
    "id": "yhaGu1zt9Hig"
   },
   "source": [
    "### Evaluation of TASK 2a\n",
    "\n",
    "<u>***DO NOT MODIFY The code fragment below.***</u> \n",
    "\n",
    "This code evaluates your output from your previous function. "
   ]
  },
  {
   "cell_type": "code",
   "execution_count": 125,
   "metadata": {
    "id": "ZiF6wjGT1Wrw"
   },
   "outputs": [
    {
     "name": "stdout",
     "output_type": "stream",
     "text": [
      "1.097 sec elapsed\n"
     ]
    },
    {
     "ename": "ERROR",
     "evalue": "Error in value[[3L]](cond): invalid graphics state\n",
     "output_type": "error",
     "traceback": [
      "Error in value[[3L]](cond): invalid graphics state\nTraceback:\n"
     ]
    },
    {
     "data": {
      "text/plain": [
       "plot without title"
      ]
     },
     "metadata": {},
     "output_type": "display_data"
    }
   ],
   "source": [
    "## DO NOT MODIFY THIS CELL\n",
    "## Run the clustering algorithm from the selected Data\n",
    "tic()\n",
    "rst = my.clustering(tst$X,length(selectedLabels))\n",
    "toc()"
   ]
  },
  {
   "cell_type": "code",
   "execution_count": 116,
   "metadata": {
    "id": "q3MXRhHS1Yej"
   },
   "outputs": [
    {
     "data": {
      "text/plain": [
       "NULL"
      ]
     },
     "metadata": {},
     "output_type": "display_data"
    },
    {
     "data": {
      "image/png": "[encoded data removed]",
      "text/plain": [
       "plot without title"
      ]
     },
     "metadata": {},
     "output_type": "display_data"
    }
   ],
   "source": [
    "## DO NOT MODIFY THIS CELL\n",
    "## Visualize rst$mus as images.\n",
    "options(repr.plot.width=4, repr.plot.height=1)\n",
    "par(mfrow=c(1,3))\n",
    "par(mar=c(0,0,0,0))\n",
    "apply(rst$mus,2,function(x) { image(matrix(x,28,28)[,28:1]*255,col=gray((0:255)/255)) })\n",
    "## below is a result from a working example with an E-M algorithm"
   ]
  },
  {
   "cell_type": "code",
   "execution_count": 117,
   "metadata": {
    "id": "hEEnh-dH1dkY"
   },
   "outputs": [
    {
     "name": "stdout",
     "output_type": "stream",
     "text": [
      "# A tibble: 8 x 4\n",
      "   true   est     n    freq\n",
      "  <int> <dbl> <int>   <dbl>\n",
      "1     0     0   951 0.302  \n",
      "2     0     1     8 0.00254\n",
      "3     0     2    21 0.00667\n",
      "4     1     1  1063 0.338  \n",
      "5     1     2    72 0.0229 \n",
      "6     2     0    38 0.0121 \n",
      "7     2     1    25 0.00794\n",
      "8     2     2   969 0.308  \n"
     ]
    }
   ],
   "source": [
    "## DO NOT MODIFY THIS CELL\n",
    "## Tabulate the contingency tables to understand the accuracy \n",
    "print(data.frame(est=rst$est, true=tst$y) %>% count(true,est) %>% mutate(freq=n/sum(n)))\n",
    "## below is a result from a working example with an E-M algorithm"
   ]
  },
  {
   "cell_type": "markdown",
   "metadata": {
    "id": "V1qNUBJk9CjX"
   },
   "source": [
    "#### <u>PART III - INTERPRET EVALUATION RESULTS (WRITE ON YOUR OWN)</u>\n",
    "\n",
    "<u>***Please delete the text in this cell and fill in with your own.***</u>\n",
    "\n",
    "_Briefly describe the followings: (it does not have to be long. 1-2 sentences each is fine._\n",
    "* _Does your result make sense, in terms of speed and accuracy?_  \n",
    "\n",
    "  The result appears make sense, which can be directly visualized by the image above. It usually takes less than 2 seconds to converge in the algorithm above, and the accuracy over the three group is approxiamtely 94%.  \n",
    "  \n",
    " \n",
    "* _What was the tricky part in your implementation? How did you address the challenges?_  \n",
    "\n",
    "   The tricky part is the calculation of log-likehood in `update.prob()`. In the case of Bernoulli distribution, the log of $ P({x_{i,j}}|{p}_{{z_{i}},j})= {p}_{{z_{i}},j}^{x_{i,j}}(1-{p}_{{z_{i}},j})^{1-x_{i,j}}$ could be -Inf when the parameter ${p}_{{z_{i}},j}$ equals 1 or 0. To address this problem, I add a tolerance term `tol=1e-100` so that $log({p}_{{z_{i}},j}+tol)$ would be a finite negative number instead of -Inf, which helps to settle the problem well.\n",
    "  \n",
    " \n",
    "* _How could your implementation be potentially improved?_  \n",
    "  \n",
    "  I believe that the accuracy of classification can be further improved. \n",
    "  In the case of the classification of data with labels (0,1,2), the inaccuracy is introduced by the confusion between '1' and '2'. This can be a start point for further improvements focusing on distinguish them.\n"
   ]
  },
  {
   "cell_type": "markdown",
   "metadata": {
    "id": "ikB5NMUs9pd8"
   },
   "source": [
    "### ***TASK 2b: EXPLORE MORE ON MNIST CLUSTERING ON YOUR OWN*** (optional)\n",
    "\n",
    "This is an open-ended task. You are encouraged to perform additional follow-ups on clustering. Examples include the following:\n",
    "  * (Easy) Try different sets of labels to understand the data-dependent differences in the clustering performance. Also, try to evaluate the robustness of your algorithm based on different initial points.\n",
    "  * (Medium) Try to implement an algorithm that automatically select the optimal number of clusters depending on the data.\n",
    "  * (Hard) Try to implement another algorithm and compare the performance between the algorithms. Describe which ones are better in which cases and justify your answer.\n",
    "\n",
    "Add additional code or text cells as needed below. Make sure to include your brief report on your work so that instructors can understand what you accomplished clearly.\n",
    "\n",
    "For this optional task, you are allowed to use any external libraries as needed."
   ]
  },
  {
   "cell_type": "code",
   "execution_count": 25,
   "metadata": {
    "id": "qn6v2ifi9scT"
   },
   "outputs": [],
   "source": [
    "##########################################################\n",
    "## PLEASE MODIFY THIS CELL (or Add more cells if needed)\n",
    "## To perform TASK 2b (optional)\n",
    "##########################################################"
   ]
  }
 ],
 "metadata": {
  "colab": {
   "collapsed_sections": [],
   "name": "Kailin Wang_BIOSTAT615 Midterm Project - Fall 2021.ipynb",
   "provenance": []
  },
  "kernelspec": {
   "display_name": "R",
   "language": "R",
   "name": "ir"
  },
  "language_info": {
   "codemirror_mode": "r",
   "file_extension": ".r",
   "mimetype": "text/x-r-source",
   "name": "R",
   "pygments_lexer": "r",
   "version": "3.6.1"
  }
 },
 "nbformat": 4,
 "nbformat_minor": 1
}
